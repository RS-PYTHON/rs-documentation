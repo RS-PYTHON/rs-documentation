{
 "cells": [
  {
   "cell_type": "markdown",
   "id": "78cfce06-628b-4ae1-977e-58843d731f09",
   "metadata": {},
   "source": [
    "<table align='right'><tr>\n",
    "<td style=\"padding:10px\"><img src=\"resources/img/logos/EC_POS.png\" style=\"max-height:50px;width:auto;\"/></td>\n",
    "<td style=\"padding:10px\"><img src=\"resources/img/logos/ESA_logo_2020_Deep.png\" style=\"max-height:40px;width:auto;\"/></td>\n",
    "<td style=\"padding:10px\"><img src=\"resources/img/logos/Copernicus_blue.png\" style=\"max-height:60px;width:auto;\"/></td>\n",
    "<td style=\"padding:10px\"><img src=\"resources/img/logos/AIRBUS_Blue.png\" style=\"max-height:30px;width:auto;\"/></td>\n",
    "<td style=\"padding:10px\"><img src=\"resources/img/logos/CS-GROUP.png\" style=\"max-height:50px;width:auto;\"/></td>\n",
    "</tr></table>"
   ]
  },
  {
   "cell_type": "markdown",
   "id": "db3d0518-4d35-4d13-9e78-7f9990fbaaf8",
   "metadata": {},
   "source": [
    "<a href=\"./ESA_checkpoint_v0.1_02_manual_calls.ipynb\" target=\"_blank\"><< Part 2: manual calls to the RS-Server services</a>\n",
    "<br>\n",
    "<a href=\"./ESA_checkpoint_v0.1_04_prefect.ipynb\" target=\"_blank\">Part 4: Prefect workflows >></a>"
   ]
  },
  {
   "cell_type": "markdown",
   "id": "daeaa622-5796-475b-8746-11a540613c64",
   "metadata": {},
   "source": [
    "<font color=\"#138D75\">**Copernicus Reference System Python**</font> <br>\n",
    "**Copyright:** Copyright 2024 ESA <br>\n",
    "**License:** Apache License, Version 2.0 <br>\n",
    "**Authors:** Airbus, CS Group"
   ]
  },
  {
   "cell_type": "markdown",
   "id": "ff85eadd-c73b-4c45-b1d9-cefb26dee873",
   "metadata": {},
   "source": [
    "<div class=\"alert alert-block alert-success\">\n",
    "<h3>Copernicus Reference System Python tutorial for the ESA checkpoint 0.1</h3></div>"
   ]
  },
  {
   "cell_type": "markdown",
   "id": "d035941b-74fe-46ec-9161-a025925d7d6d",
   "metadata": {
    "jp-MarkdownHeadingCollapsed": true
   },
   "source": [
    "<div class=\"alert alert-block alert-warning\">\n",
    "\n",
    "<h4>Part 3: use the STAC catalog</h4>\n",
    "\n",
    "Prerequisites:\n",
    "* <a href=\"./ESA_checkpoint_v0.1_01_initialisation.ipynb\" target=\"_blank\">Part 1: initialisation</a>\n",
    "* <a href=\"./ESA_checkpoint_v0.1_02_manual_calls.ipynb\" target=\"_blank\">Part 2: manual calls to the RS-Server services</a>\n",
    "\n",
    "</div>\n",
    "<hr>"
   ]
  },
  {
   "cell_type": "markdown",
   "id": "29bf9681-d649-4b33-8c79-021e39e4dd1b",
   "metadata": {},
   "source": [
    "# Introduction\n",
    "\n",
    "## Links\n",
    "\n",
    "* GitHub: https://github.com/RS-PYTHON\n",
    "* Documentation: https://home.rs-python.eu/rs-documentation/\n",
    "\n",
    "## Data used\n",
    "\n",
    "In this notebook, we use simulated Auxip and Cadip data.\n",
    "\n",
    "## Learning outcomes\n",
    "\n",
    "At the end of this notebook you will know how to:\n",
    "* Use the RS-Client Python library.\n",
    "* Use it to call the STAC catalog services.\n",
    "\n",
    "<div class=\"alert alert-info\" role=\"alert\">\n",
    "\n",
    "## Contents\n",
    "\n",
    "</div>\n",
    "    \n",
    "1. [Check your installation](#Check-your-installation) \n",
    "1. [RsClient initialisation](#RsClient-initialisation)\n",
    "1. [Use the STAC catalog](#Use-the-STAC-catalog)\n",
    "1. [Exercises](#Exercises)\n",
    "\n",
    "<hr>"
   ]
  },
  {
   "cell_type": "markdown",
   "id": "68d55824-d819-4537-a8bf-372b5990b1b6",
   "metadata": {},
   "source": [
    "<div class=\"alert alert-info\" role=\"alert\">\n",
    "\n",
    "## Check your installation\n",
    "\n",
    "In this section, we will check that your Jupyter Notebook environment is correctly set.\n",
    "\n",
    "[Back to top](#Contents)\n",
    "\n",
    "</div>"
   ]
  },
  {
   "cell_type": "markdown",
   "id": "03a8aadc-7343-469a-bb86-51dc7ad8e758",
   "metadata": {},
   "source": [
    "### `rs-client-libraries` installation\n",
    "\n",
    "The `rs-client-libraries` Python library is the preferred way to access the RS-Server services from your environment. It is automatically installed in this notebook.\n",
    "\n",
    "**Note**: don't worry about these OpenTelemetry messages for now, they will be fixed in a later version:\n",
    "```\n",
    "Overriding of current TracerProvider is not allowed\n",
    "Attempting to instrument while already instrumented\n",
    "Transient error StatusCode.UNAVAILABLE encountered while exporting metrics to ..., retrying in ...s\n",
    "Failed to export metrics to ..., error code: StatusCode.UNIMPLEMENTED\n",
    "```"
   ]
  },
  {
   "cell_type": "code",
   "execution_count": null,
   "id": "4715f416-74d9-4778-968d-b0809671ee4a",
   "metadata": {},
   "outputs": [],
   "source": [
    "import rs_client\n",
    "import rs_common\n",
    "import rs_workflows\n",
    "\n",
    "# Set logger level to info\n",
    "import logging\n",
    "rs_common.logging.Logging.level = logging.INFO"
   ]
  },
  {
   "cell_type": "markdown",
   "id": "e98aa897-c50a-427b-9041-1a85b040e70a",
   "metadata": {},
   "source": [
    "### Environment"
   ]
  },
  {
   "cell_type": "code",
   "execution_count": null,
   "id": "13a30ce8-392a-4617-8213-6bf37c348303",
   "metadata": {},
   "outputs": [],
   "source": [
    "import os\n",
    "\n",
    "# In local mode, all your services are running locally.\n",
    "# In hybrid or cluster mode, we use the services deployed on the RS-Server website.\n",
    "# This configuration is set in an environment variable.\n",
    "local_mode = (os.getenv(\"RSPY_LOCAL_MODE\") == \"1\")\n",
    "\n",
    "# In local mode, the service URLs are hardcoded in the docker-compose file\n",
    "if local_mode:\n",
    "    rs_server_href = None # not used\n",
    "    RSPY_HOST_AUXIP = \"http://localhost:8001/docs\"\n",
    "    RSPY_HOST_CADIP = \"http://localhost:8002/docs\"\n",
    "    RSPY_HOST_CATALOG = \"http://localhost:8003/api.html\"\n",
    "\n",
    "# In hybrid or cluster mode, they are set in an environment variables\n",
    "else:\n",
    "    rs_server_href = os.environ[\"RSPY_WEBSITE\"]"
   ]
  },
  {
   "cell_type": "markdown",
   "id": "5d0b7755-0b42-4abc-8942-ef1c0fc85d99",
   "metadata": {},
   "source": [
    "### API key"
   ]
  },
  {
   "cell_type": "code",
   "execution_count": null,
   "id": "76b8c8ad-2bc5-4c52-80a1-1e298997a431",
   "metadata": {},
   "outputs": [],
   "source": [
    "apikey = os.getenv(\"RSPY_APIKEY\")\n",
    "if (not local_mode) and (not apikey):\n",
    "    import getpass\n",
    "    apikey = getpass.getpass(f\"Enter your API key:\")\n",
    "    os.environ[\"RSPY_APIKEY\"] = apikey"
   ]
  },
  {
   "cell_type": "markdown",
   "id": "6ba00966-43c4-4d20-81a2-0a74e929e184",
   "metadata": {},
   "source": [
    "<div class=\"alert alert-info\" role=\"alert\">\n",
    "\n",
    "## RsClient initialisation\n",
    "\n",
    "Initialise Python RsClient class instances to access the RS-Server services.\n",
    "\n",
    "[Back to top](#Contents)\n",
    "\n",
    "</div>"
   ]
  },
  {
   "cell_type": "code",
   "execution_count": null,
   "id": "55ff0d3c-752d-4c2f-aa3b-0ea081a2381f",
   "metadata": {},
   "outputs": [],
   "source": [
    "import json\n",
    "from rs_client.rs_client import RsClient\n",
    "from rs_common.config import ECadipStation\n",
    "\n",
    "# Init a generic RS-Client instance. Pass the:\n",
    "#   - RS-Server website URL\n",
    "#   - API key. If not set, we try to read it from the RSPY_APIKEY environment variable.\n",
    "#   - ID of the owner of the STAC catalog collections.\n",
    "#     By default, this is the user login from the keycloak account, associated to the API key.\n",
    "#     Or, in local mode, this is the local system username.\n",
    "#     Else, your API Key must give you the rights to read/write on this catalog owner (see next cell).\n",
    "#   - Logger (optional, a default one can be used)\n",
    "generic_client = RsClient(rs_server_href, rs_server_api_key=None, owner_id=None, logger=None)\n",
    "print(f\"STAC catalog owner: {generic_client.owner_id!r}\")\n",
    "\n",
    "# From this generic instance, get an Auxip client instance\n",
    "auxip_client = generic_client.get_auxip_client()\n",
    "\n",
    "# Or get a Cadip client instance. Pass the cadip station.\n",
    "cadip_station = ECadipStation.CADIP # you can also have: INS, MPS, MTI, NSG, SGS\n",
    "cadip_client = generic_client.get_cadip_client(cadip_station)\n",
    "\n",
    "# Or get a Stac client to access the catalog\n",
    "stac_client = generic_client.get_stac_client()\n",
    "\n",
    "print(\"\\nValidate that our catalog is valid to the STAC format...\")\n",
    "stac_client.validate_all()\n",
    "\n",
    "print(\"\\nDisplay the Stac catalog as a treeview in notebook:\")\n",
    "display(stac_client)\n",
    "\n",
    "print(\"\\nOr just display all its contents at once:\")\n",
    "print(json.dumps(stac_client.to_dict(), indent=2))"
   ]
  },
  {
   "cell_type": "code",
   "execution_count": null,
   "id": "3aebf82f-245d-468e-8ffa-a27abf243923",
   "metadata": {},
   "outputs": [],
   "source": [
    "# In hybrid or cluster mode, show information from the keycloak account, associated to the api key\n",
    "if not local_mode:\n",
    "\n",
    "    # = keycloak account user login\n",
    "    print(f\"API key user login: {generic_client.apikey_user_login!r}\")\n",
    "\n",
    "    # Print the IAM (Identity and Access Management) roles\n",
    "    # For this tutorial, you must have: \n",
    "    #   - read/download access for Adgs (=Auxip) = \"rs_adgs_<read|download>\"\n",
    "    #   - read/download access to the Cadip station you passed on the above cell = \"rs_cadip_<station>_<read|download>\"\n",
    "    #   - (optional) read/write/download access to STAC catalog collections from other owners = \"rs_catalog_<owner_id>:<collection|*>_<read|write|download>\"\n",
    "    #     (you always have all access to your own collections with owner_id=apikey_user_login as printed above)\n",
    "    iam_roles = \"\\n\".join (sorted (generic_client.apikey_iam_roles))\n",
    "    print(f\"\\nAPI key IAM roles: \\n{iam_roles}\")"
   ]
  },
  {
   "cell_type": "markdown",
   "id": "ba922daf-0aad-4cf8-8755-cd87e40e8942",
   "metadata": {},
   "source": [
    "<div class=\"alert alert-info\" role=\"alert\">\n",
    "\n",
    "## Use the STAC catalog\n",
    "\n",
    "The SpatioTemporal Asset Catalog (STAC) family of specifications aim to standardize the way geospatial asset metadata is structured and queried. \n",
    "\n",
    "A 'spatiotemporal asset' is any file that represents information about the Earth captured in a certain space and time. \n",
    "\n",
    "For more information, see: https://github.com/radiantearth/stac-api-spec/tree/main\n",
    "\n",
    "In this section, we will see how to use most of the RS-Server STAC catalog functionalities.\n",
    "\n",
    "[Back to top](#Contents)\n",
    "\n",
    "</div>"
   ]
  },
  {
   "cell_type": "code",
   "execution_count": null,
   "id": "e3ccc7a5-f257-4590-946e-5513bba93ec2",
   "metadata": {},
   "outputs": [],
   "source": [
    "# Do some initialisation\n",
    "from datetime import datetime\n",
    "import json\n",
    "\n",
    "# Define a search interval\n",
    "start_date = datetime(2010, 1, 1, 12, 0, 0)\n",
    "stop_date = datetime(2024, 1, 1, 12, 0, 0)"
   ]
  },
  {
   "cell_type": "markdown",
   "id": "a29f4a28-49ac-4772-836f-2266d9920324",
   "metadata": {},
   "source": [
    "#### Add a new collection to the catalog"
   ]
  },
  {
   "cell_type": "code",
   "execution_count": null,
   "id": "c3f5e620-02ca-4e6a-a7eb-d8d8e9143797",
   "metadata": {},
   "outputs": [],
   "source": [
    "from pystac import Collection, Extent, SpatialExtent, TemporalExtent\n",
    "\n",
    "COLLECTION = \"my_tutorial_collection\"\n",
    "\n",
    "# Clean the existing collection, if any\n",
    "stac_client.remove_collection(COLLECTION)\n",
    "\n",
    "# In this tutorial, after each operation, we will validate that \n",
    "# our catalog is valid to the STAC format, but this is optional.\n",
    "stac_client.validate_all()\n",
    "\n",
    "# Add new collection \n",
    "response = stac_client.add_collection(\n",
    "    Collection(\n",
    "        id=COLLECTION,\n",
    "        description=None, # rs-client will provide a default description for us\n",
    "        extent=Extent(\n",
    "            spatial=SpatialExtent(bboxes=[-180.0, -90.0, 180.0, 90.0]),\n",
    "            temporal=TemporalExtent([start_date, stop_date])\n",
    "        )\n",
    "    ))\n",
    "response.raise_for_status()\n",
    "stac_client.validate_all()"
   ]
  },
  {
   "cell_type": "markdown",
   "id": "2958319a-a576-4e26-82e7-082ba17985c2",
   "metadata": {},
   "source": [
    "#### Read collections from the catalog"
   ]
  },
  {
   "cell_type": "code",
   "execution_count": null,
   "id": "3d46d4be-0c59-47f4-b0b1-f6880fca7091",
   "metadata": {},
   "outputs": [],
   "source": [
    "# See all my personal catalog collections\n",
    "for collection in stac_client.get_collections():\n",
    "    print(f\"I have collection: {collection} at {collection.self_href}\")\n",
    "\n",
    "# Get a specific collection information\n",
    "my_collection = stac_client.get_collection(collection_id=COLLECTION)\n",
    "print(f\"\\nCollection information from {my_collection.self_href}\\n{json.dumps(collection.to_dict(), indent=2)}\")"
   ]
  },
  {
   "cell_type": "markdown",
   "id": "b5e9474a-be39-4983-9e27-d43046859ade",
   "metadata": {},
   "source": [
    "#### Add new items to the collection\n",
    "\n",
    "When RS-Server stages a file, it means to:\n",
    "1. Copy (=download) it from the reception station into the temporary S3 bucket.\n",
    "1. Publish its metadata into the STAC catalog and move it from the temporary into the final S3 bucket.\n",
    "\n",
    "The first step has been done in the previous tutorial. Here we will perform the second step.\n",
    "\n",
    "<mark>WARNING: after this, the staged files are moved from the temporary into the final bucket, so this cell can be run only once, or you'll have to stage the files again from the previous tutorial.</mark>"
   ]
  },
  {
   "cell_type": "markdown",
   "id": "f9897a98-8fc3-4a98-a27d-866fd3506a5f",
   "metadata": {},
   "source": [
    "![Staging step #2](resources/img/v0.1/staging_step2.drawio.png)"
   ]
  },
  {
   "cell_type": "code",
   "execution_count": null,
   "id": "59bb97df-6b77-4ac9-b42f-645d02ae964c",
   "metadata": {},
   "outputs": [],
   "source": [
    "from pystac.asset import Asset\n",
    "from pystac.item import Item\n",
    "\n",
    "# Simulated values\n",
    "WIDTH=2500\n",
    "HEIGHT=2500\n",
    "\n",
    "# We will add one Auxip and one Cadip file that were staged from the previous notebook\n",
    "%store -r temp_s3_files\n",
    "for temp_s3_file in temp_s3_files:\n",
    "\n",
    "    # Let's use STAC item ID = filename\n",
    "    print(f\"Add catalog item from: {temp_s3_file!r}\")\n",
    "    item_id = os.path.basename(temp_s3_file)\n",
    "\n",
    "    # The file path from the temp s3 bucket is given in the assets\n",
    "    assets = {\"file\": Asset(href=temp_s3_file)}\n",
    "\n",
    "    # Other hardcoded parameters for this demo\n",
    "    geometry = {\n",
    "        \"type\": \"Polygon\",\n",
    "        \"coordinates\": [[[-180, -90], [180, -90], [180, 90], [-180, 90], [-180, -90]]],\n",
    "    }\n",
    "    bbox = [-180.0, -90.0, 180.0, 90.0]\n",
    "    now = datetime.now()\n",
    "    properties = {\n",
    "        \"gsd\": 0.12345,\n",
    "        \"width\": WIDTH,\n",
    "        \"height\": HEIGHT,\n",
    "        \"datetime\": datetime.now(),\n",
    "        \"proj:epsg\": 3857,\n",
    "        \"orientation\": \"nadir\",\n",
    "    }\n",
    "\n",
    "    # Add item to the STAC catalog collection, check status is OK\n",
    "    # NOTE: in future versions, this pystac Item object will be returned automatically by rs-client-libraries.\n",
    "    item = Item(\n",
    "        id=item_id,\n",
    "        geometry=geometry,\n",
    "        bbox=bbox,\n",
    "        datetime=now,\n",
    "        properties=properties,\n",
    "        assets=assets)\n",
    "    response = stac_client.add_item(COLLECTION, item)\n",
    "    response.raise_for_status()\n",
    "    stac_client.validate_all()"
   ]
  },
  {
   "cell_type": "markdown",
   "id": "79202fe3-b6b0-4029-b0d8-c232ee1afbc2",
   "metadata": {},
   "source": [
    "#### Read items from the collection"
   ]
  },
  {
   "cell_type": "code",
   "execution_count": null,
   "id": "c1bf1c7b-67bf-4108-898c-d3a74733183a",
   "metadata": {},
   "outputs": [],
   "source": [
    "# Get the items from the catalog to check that they were inserted\n",
    "for temp_s3_file in temp_s3_files:\n",
    "    item_id = os.path.basename(temp_s3_file)\n",
    "    inserted_item = my_collection.get_item(item_id)\n",
    "    assert inserted_item, \"Item was not inserted\"\n",
    "    print (f\"Saved item in the catalog:\\n{json.dumps (inserted_item.to_dict(), indent=2)}\")"
   ]
  },
  {
   "cell_type": "markdown",
   "id": "2cb517c9-96e4-422e-84c6-b3a2316c8fe7",
   "metadata": {},
   "source": [
    "#### Search items from the catalog"
   ]
  },
  {
   "cell_type": "code",
   "execution_count": null,
   "id": "25b4423c-9218-41ec-a9eb-ef9ca10fbd91",
   "metadata": {},
   "outputs": [],
   "source": [
    "# For searching, we need to prefix our collection name by <owner_id>_\n",
    "owner_collection = f\"{stac_client.owner_id}_{COLLECTION}\"\n",
    "\n",
    "# Search by the last inserted item id\n",
    "search = stac_client.search(ids=[item_id], collections=[owner_collection])\n",
    "results = list(search.items_as_dicts())\n",
    "assert results, f\"There should be at least one item with id={item_id}\"\n",
    "print(f\"Found {len(results)} results for id={item_id}\")\n",
    "\n",
    "# Search by the 'width' and 'height' property using a CQL2 filter, \n",
    "# see: https://pystac-client.readthedocs.io/en/stable/tutorials/cql2-filter.html\n",
    "filter_on_dimensions = {\n",
    "    \"op\": \"and\",\n",
    "    \"args\": [\n",
    "        {\"op\": \"=\", \"args\" : [{\"property\": \"collection\"}, owner_collection]},\n",
    "        {\"op\": \"=\", \"args\" : [{\"property\": \"width\"}, WIDTH]},\n",
    "        {\"op\": \"=\", \"args\" : [{\"property\": \"height\"}, HEIGHT]},\n",
    "    ]\n",
    "}\n",
    "search = stac_client.search(filter=filter_on_dimensions)\n",
    "results = list(search.items_as_dicts())\n",
    "assert results, f\"There should be at least one item for width={WIDTH} height={HEIGHT}\"\n",
    "print(f\"\\nFound {len(results)} results for width={WIDTH} height={HEIGHT}\")\n",
    "for result in results:\n",
    "    print(f\"({result['collection']}) {result['id']}\")"
   ]
  },
  {
   "cell_type": "markdown",
   "id": "a1e71868-a755-4b29-a0f3-e736891d8a03",
   "metadata": {},
   "source": [
    "#### Remove an item from the collection"
   ]
  },
  {
   "cell_type": "code",
   "execution_count": null,
   "id": "3eaebbe1-9671-4664-8db4-2684806f8b72",
   "metadata": {},
   "outputs": [],
   "source": [
    "# Get all items before removing\n",
    "items_before = list(stac_client.get_collection(COLLECTION).get_items())\n",
    "print (f\"{len(items_before)} items before removing\")\n",
    "\n",
    "# If there is at least one item\n",
    "if items_before:\n",
    "\n",
    "    # Remove the first item\n",
    "    item_id = items_before[0].id\n",
    "    stac_client.remove_item (COLLECTION, item_id)\n",
    "    \n",
    "    # We should have one less item in the collection\n",
    "    items_after = list(stac_client.get_collection(COLLECTION).get_items())\n",
    "    assert len(items_after) == (len(items_before) - 1), \\\n",
    "        f\"There should be {len(items_before) - 2} items in the collection, but we have {len(items_after)}\"\n",
    "\n",
    "stac_client.validate_all()"
   ]
  },
  {
   "cell_type": "markdown",
   "id": "3f0f9c3d-13c1-4410-8f5c-2c4402c3acb2",
   "metadata": {},
   "source": [
    "#### Remove a collection from the catalog"
   ]
  },
  {
   "cell_type": "code",
   "execution_count": null,
   "id": "570b2a49-bd43-48f6-8c4f-67f1cf0d0242",
   "metadata": {},
   "outputs": [],
   "source": [
    "import pystac_client\n",
    "\n",
    "# Remove the collection\n",
    "stac_client.remove_collection (COLLECTION)\n",
    "\n",
    "# It should not exist anymore: trying to get the collection should raise an Exception\n",
    "try:\n",
    "    stac_client.get_collection(COLLECTION)\n",
    "    assert False, f\"The collection {COLLECTION!r} should have been removed\"\n",
    "\n",
    "# So it is normal that we have this exception\n",
    "except pystac_client.exceptions.APIError:\n",
    "    print (f\"The collection {COLLECTION!r} has been removed\")\n",
    "\n",
    "stac_client.validate_all()"
   ]
  },
  {
   "cell_type": "markdown",
   "id": "aa9e25f0-332f-4a6d-8fa8-f7fc34f96c50",
   "metadata": {},
   "source": [
    "<div class=\"alert alert-danger\" role=\"alert\">\n",
    "\n",
    "## Exercises\n",
    "\n",
    "</div>\n",
    "\n",
    "Run again the previous cells but this time: \n",
    "1. Check if your **API key** allows you to access STAC catalog collections from **other owners**. Then:\n",
    "    1. Use a RsClient instance with one of these **other owner IDs**.\n",
    "    1. Check that this **other owner ID** is saved as the **owner** field of your newly created collections.\n",
    "1. Using the previous notebook, stage at least one different Auxip and Cadip file into the STAC catalog.\n",
    "\n",
    "**NOTE**: you can also use the website OpenAPI Swagger UI to call RS-Server (see cell below).\n",
    "\n",
    "[Back to top](#Contents)\n",
    "\n",
    "<hr>"
   ]
  },
  {
   "cell_type": "code",
   "execution_count": null,
   "id": "cdb904b7-cedf-4174-b227-1de8ad4b9d99",
   "metadata": {},
   "outputs": [],
   "source": [
    "if local_mode:\n",
    "    print(f\"\"\"OpenAPI Swagger UI for:\n",
    "  - Auxip: {RSPY_HOST_AUXIP}\n",
    "  - Cadip: {RSPY_HOST_CADIP}\n",
    "  - STAC catalog: {RSPY_HOST_CATALOG}\"\"\")\n",
    "else:\n",
    "    print(f\"OpenAPI Swagger UI: {generic_client.rs_server_href}\")"
   ]
  },
  {
   "cell_type": "markdown",
   "id": "bf7329a1-8aa2-4b6e-a961-535c751f3393",
   "metadata": {},
   "source": [
    "<a href=\"./ESA_checkpoint_v0.1_02_manual_calls.ipynb\" target=\"_blank\"><< Part 2: manual calls to the RS-Server services</a>\n",
    "<br>\n",
    "<a href=\"./ESA_checkpoint_v0.1_04_prefect.ipynb\" target=\"_blank\">Part 4: Prefect workflows >></a>"
   ]
  },
  {
   "cell_type": "markdown",
   "id": "1d43fa8c-4558-41d6-92cf-70ceb7764e79",
   "metadata": {},
   "source": [
    "<hr>\n",
    "<a href=\"https://github.com/RS-PYTHON\" target=\"_blank\">View on GitHub</a>"
   ]
  }
 ],
 "metadata": {
  "kernelspec": {
   "display_name": "Python 3 (ipykernel)",
   "language": "python",
   "name": "python3"
  },
  "language_info": {
   "codemirror_mode": {
    "name": "ipython",
    "version": 3
   },
   "file_extension": ".py",
   "mimetype": "text/x-python",
   "name": "python",
   "nbconvert_exporter": "python",
   "pygments_lexer": "ipython3",
   "version": "3.11"
  }
 },
 "nbformat": 4,
 "nbformat_minor": 5
}
