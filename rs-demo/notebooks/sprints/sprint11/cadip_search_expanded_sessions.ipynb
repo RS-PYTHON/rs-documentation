{
 "cells": [
  {
   "cell_type": "markdown",
   "metadata": {},
   "source": [
    "# Search files from CADIP stations using session id demo.\n",
    "\n",
    "Part of RSPY161"
   ]
  },
  {
   "cell_type": "code",
   "execution_count": null,
   "metadata": {},
   "outputs": [],
   "source": [
    "# Set local or cluster configuration\n",
    "import os\n",
    "import requests\n",
    "import getpass\n",
    "\n",
    "if os.getenv(\"RSPY_LOCAL_MODE\") == \"1\":\n",
    "    endpoint=f\"http://rs-server-cadip:8000/cadip/cadip/session?\"\n",
    "    HEADERS={}\n",
    "    local_mode = True\n",
    "else:\n",
    "    os.environ[\"RSPY_WEBSITE\"] = \"https://dev-rspy.esa-copernicus.eu\"\n",
    "    apikey = getpass.getpass(\"Enter your API key:\")\n",
    "    os.environ[\"RSPY_APIKEY\"] = apikey\n",
    "    RS_SERVER_ROOT_URL = os.environ[\"RSPY_WEBSITE\"]\n",
    "    endpoint=f\"{RS_SERVER_ROOT_URL}/cadip/cadip/session?\"\n",
    "    HEADERS={\"headers\": {\"x-api-key\": os.environ[\"RSPY_APIKEY\"]}}\n",
    "    local_mode = False\n",
    "\n",
    "print(f\"Using: {endpoint}\")"
   ]
  },
  {
   "cell_type": "markdown",
   "metadata": {},
   "source": [
    "Search and expand all files from session S1A_20200105072204051312."
   ]
  },
  {
   "cell_type": "code",
   "execution_count": null,
   "metadata": {},
   "outputs": [],
   "source": [
    "params = {\n",
    "    \"id\": \"S1A_20200105072204051312\",\n",
    "}\n",
    "requests.get(endpoint, params=params, **HEADERS).json()"
   ]
  },
  {
   "cell_type": "markdown",
   "metadata": {},
   "source": [
    "Search and expand all files from session S1A_20200105072204051312 and S2B_20231117033237234567"
   ]
  },
  {
   "cell_type": "code",
   "execution_count": null,
   "metadata": {},
   "outputs": [],
   "source": [
    "params = {\n",
    "    \"id\": \"S1A_20200105072204051312,S2B_20231117033237234567\",\n",
    "}\n",
    "requests.get(endpoint, params=params, **HEADERS).json()"
   ]
  },
  {
   "cell_type": "markdown",
   "metadata": {},
   "source": [
    "Search and all files from S1A satellite between 2020 and 2023, with expanded support."
   ]
  },
  {
   "cell_type": "code",
   "execution_count": null,
   "metadata": {},
   "outputs": [],
   "source": [
    "params = {\n",
    "    \"platform\": \"S1A\",\n",
    "    \"start_date\": \"2020-02-16T12:00:00Z\",\n",
    "    \"stop_date\": \"2023-02-16T12:00:00Z\",\n",
    "}\n",
    "requests.get(endpoint, params=params, **HEADERS).json()"
   ]
  },
  {
   "cell_type": "markdown",
   "metadata": {},
   "source": [
    "If pickup point does not support the $expand mechanism, the output will be as before, metadata about the session but with assets list empty.\n",
    "\n",
    "For testing purpose, MTI simulator does not support $expand."
   ]
  },
  {
   "cell_type": "code",
   "execution_count": null,
   "metadata": {},
   "outputs": [],
   "source": [
    "if os.getenv(\"RSPY_LOCAL_MODE\") == \"0\":\n",
    "    endpoint=f\"https://dev-rspy.esa-copernicus.eu/cadip/MTI/session?\"\n",
    "    params = {\n",
    "        \"id\": \"S1A_20200105072204051312\",\n",
    "    }\n",
    "    requests.get(endpoint, params=params, **HEADERS).json()"
   ]
  }
 ],
 "metadata": {
  "kernelspec": {
   "display_name": "Python 3 (ipykernel)",
   "language": "python",
   "name": "python3"
  },
  "language_info": {
   "codemirror_mode": {
    "name": "ipython",
    "version": 3
   },
   "file_extension": ".py",
   "mimetype": "text/x-python",
   "name": "python",
   "nbconvert_exporter": "python",
   "pygments_lexer": "ipython3",
   "version": "3.12.2"
  }
 },
 "nbformat": 4,
 "nbformat_minor": 4
}
