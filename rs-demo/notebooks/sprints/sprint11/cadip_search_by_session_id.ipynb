{
 "cells": [
  {
   "cell_type": "markdown",
   "metadata": {},
   "source": [
    "# Search files from CADIP stations using session id demo.\n",
    "\n",
    "Part of RSPY192"
   ]
  },
  {
   "cell_type": "code",
   "execution_count": null,
   "metadata": {},
   "outputs": [],
   "source": [
    "# Set local or cluster configuration\n",
    "import os\n",
    "import requests\n",
    "import getpass\n",
    "\n",
    "\n",
    "if os.getenv(\"RSPY_LOCAL_MODE\") == \"1\":\n",
    "    endpoint=f\"http://rs-server-cadip:8000/cadip/cadip/cadu/search?\"\n",
    "    HEADERS={}\n",
    "    local_mode = True\n",
    "else:\n",
    "    os.environ[\"RSPY_LOCAL_MODE\"] = \"1\"\n",
    "    os.environ[\"RSPY_WEBSITE\"] = \"https://dev-rspy.esa-copernicus.eu\"\n",
    "    apikey = getpass.getpass(\"Enter your API key:\")\n",
    "    os.environ[\"RSPY_APIKEY\"] = apikey\n",
    "    RS_SERVER_ROOT_URL = os.environ[\"RSPY_WEBSITE\"]\n",
    "    endpoint=f\"{RS_SERVER_ROOT_URL}/cadip/cadip/cadu/search?\"\n",
    "    HEADERS={\"headers\": {\"x-api-key\": os.environ[\"RSPY_APIKEY\"]}}\n",
    "    local_mode = False\n",
    "\n",
    "print(f\"Using: {endpoint}\")"
   ]
  },
  {
   "cell_type": "markdown",
   "metadata": {},
   "source": [
    "Select all files from the session with ID S1A_20210410031928012345"
   ]
  },
  {
   "cell_type": "code",
   "execution_count": null,
   "metadata": {},
   "outputs": [],
   "source": [
    "params = {\n",
    "    \"session_id\": \"S1A_20210410031928012345\",\n",
    "}\n",
    "requests.get(endpoint, params=params, **HEADERS).json()"
   ]
  },
  {
   "cell_type": "markdown",
   "metadata": {},
   "source": [
    "Select all files that belongs to sessions with id S1A_20220715090550123456 and S2B_20231117033237234567"
   ]
  },
  {
   "cell_type": "code",
   "execution_count": null,
   "metadata": {},
   "outputs": [],
   "source": [
    "params = {\n",
    "    \"session_id\": \"S1A_20220715090550123456,S2B_20231117033237234567\"\n",
    "}\n",
    "requests.get(endpoint, params=params, **HEADERS).json()"
   ]
  },
  {
   "cell_type": "markdown",
   "metadata": {},
   "source": [
    "Select all files from session S1A_20210410031928012345 and a correct time interval (2020-2023)."
   ]
  },
  {
   "cell_type": "code",
   "execution_count": null,
   "metadata": {},
   "outputs": [],
   "source": [
    "params = {\n",
    "    \"session_id\": \"S1A_20210410031928012345\",\n",
    "    \"datetime\": \"2020-01-01T12:00:00Z/2023-12-30T12:00:00Z\"\n",
    "}\n",
    "requests.get(endpoint, params=params, **HEADERS).json()"
   ]
  },
  {
   "cell_type": "markdown",
   "metadata": {},
   "source": [
    "Select all files from session S1A_20210410031928012345 and a incorrect time interval (2023-2024). The feature resulted should be empty."
   ]
  },
  {
   "cell_type": "code",
   "execution_count": null,
   "metadata": {},
   "outputs": [],
   "source": [
    "params = {\n",
    "    \"session_id\": \"S1A_20210410031928012345\",\n",
    "    \"datetime\": \"2023-01-01T12:00:00Z/2024-12-30T12:00:00Z\"\n",
    "}\n",
    "requests.get(endpoint, params=params, **HEADERS).json()"
   ]
  }
 ],
 "metadata": {
  "kernelspec": {
   "display_name": "Python 3 (ipykernel)",
   "language": "python",
   "name": "python3"
  },
  "language_info": {
   "codemirror_mode": {
    "name": "ipython",
    "version": 3
   },
   "file_extension": ".py",
   "mimetype": "text/x-python",
   "name": "python",
   "nbconvert_exporter": "python",
   "pygments_lexer": "ipython3",
   "version": "3.12.2"
  }
 },
 "nbformat": 4,
 "nbformat_minor": 4
}
