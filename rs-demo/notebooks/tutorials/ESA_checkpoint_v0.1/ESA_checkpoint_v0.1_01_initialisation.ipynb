{
 "cells": [
  {
   "cell_type": "markdown",
   "id": "00d2b49c-c2d0-4a21-a285-236fefb5faa8",
   "metadata": {},
   "source": [
    "<table align='right'><tr>\n",
    "<td style=\"padding:10px\"><img src=\"resources/img/logos/EC_POS.png\" style=\"max-height:50px;width:auto;\"/></td>\n",
    "<td style=\"padding:10px\"><img src=\"resources/img/logos/ESA_logo_2020_Deep.png\" style=\"max-height:40px;width:auto;\"/></td>\n",
    "<td style=\"padding:10px\"><img src=\"resources/img/logos/Copernicus_blue.png\" style=\"max-height:60px;width:auto;\"/></td>\n",
    "<td style=\"padding:10px\"><img src=\"resources/img/logos/AIRBUS_Blue.png\" style=\"max-height:30px;width:auto;\"/></td>\n",
    "<td style=\"padding:10px\"><img src=\"resources/img/logos/CS-GROUP.png\" style=\"max-height:50px;width:auto;\"/></td>\n",
    "</tr></table>"
   ]
  },
  {
   "cell_type": "markdown",
   "id": "7f6e6a26-29c3-49a1-a791-ff9b380bda67",
   "metadata": {},
   "source": [
    "<a href=\"./ESA_checkpoint_v0.1_02_manual_calls.ipynb\" target=\"_blank\">Part 2: manual calls to the RS-Server services >></a>"
   ]
  },
  {
   "cell_type": "markdown",
   "id": "daeaa622-5796-475b-8746-11a540613c64",
   "metadata": {},
   "source": [
    "<font color=\"#138D75\">**Copernicus Reference System Python**</font> <br>\n",
    "**Copyright:** Copyright 2024 ESA <br>\n",
    "**License:** Apache License, Version 2.0 <br>\n",
    "**Authors:** Airbus, CS Group"
   ]
  },
  {
   "cell_type": "markdown",
   "id": "ff85eadd-c73b-4c45-b1d9-cefb26dee873",
   "metadata": {},
   "source": [
    "<div class=\"alert alert-block alert-success\">\n",
    "<h3>Copernicus Reference System Python tutorial for the ESA checkpoint 0.1</h3></div>"
   ]
  },
  {
   "cell_type": "markdown",
   "id": "dd2f7455-ec6e-4b0d-9806-0de0618cb28a",
   "metadata": {
    "jp-MarkdownHeadingCollapsed": true
   },
   "source": [
    "<div class=\"alert alert-block alert-warning\">\n",
    "\n",
    "<h4>Part 1: initialisation</h4>\n",
    "\n",
    "</div>\n",
    "<hr>"
   ]
  },
  {
   "cell_type": "markdown",
   "id": "29bf9681-d649-4b33-8c79-021e39e4dd1b",
   "metadata": {},
   "source": [
    "# Introduction\n",
    "\n",
    "This notebook is used to initialise your environment for the next tutorials.\n",
    "\n",
    "## Links\n",
    "\n",
    "* GitHub: https://github.com/RS-PYTHON\n",
    "* Documentation: https://home.rs-python.eu/rs-documentation/\n",
    "\n",
    "<div class=\"alert alert-info\" role=\"alert\">\n",
    "\n",
    "## Contents\n",
    "\n",
    "</div>\n",
    "    \n",
    "1. [Check your installation](#Check-your-installation) \n",
    "\n",
    "<hr>"
   ]
  },
  {
   "cell_type": "markdown",
   "id": "daf81275-831c-48e8-bca0-1086434dcbc4",
   "metadata": {},
   "source": [
    "<div class=\"alert alert-info\" role=\"alert\">\n",
    "\n",
    "## Check your installation\n",
    "\n",
    "In this section, we will check that your Jupyter Notebook environment is correctly set.\n",
    "\n",
    "[Back to top](#Contents)\n",
    "\n",
    "</div>"
   ]
  },
  {
   "cell_type": "markdown",
   "id": "1d069303-fd50-49ea-9c47-9d23749806bd",
   "metadata": {},
   "source": [
    "### `rs-client-libraries` installation\n",
    "\n",
    "The `rs-client-libraries` Python library is the preferred way to access the RS-Server services from your environment. It is automatically installed in this notebook.\n",
    "\n",
    "**Note**: don't worry about these OpenTelemetry messages for now, they will be fixed in a later version:\n",
    "```\n",
    "Overriding of current TracerProvider is not allowed\n",
    "Attempting to instrument while already instrumented\n",
    "Transient error StatusCode.UNAVAILABLE encountered while exporting metrics to ..., retrying in ...s\n",
    "Failed to export metrics to ..., error code: StatusCode.UNIMPLEMENTED\n",
    "```"
   ]
  },
  {
   "cell_type": "code",
   "execution_count": null,
   "id": "69708f8f-84ca-45fc-9379-313f193c44ca",
   "metadata": {},
   "outputs": [],
   "source": [
    "import rs_client\n",
    "import rs_common\n",
    "import rs_workflows\n",
    "\n",
    "# Set logger level to info\n",
    "import logging\n",
    "rs_common.logging.Logging.level = logging.INFO"
   ]
  },
  {
   "cell_type": "markdown",
   "id": "7ffce11f-fcf3-4514-a425-5ae2ecfca3b1",
   "metadata": {},
   "source": [
    "### Environment"
   ]
  },
  {
   "cell_type": "code",
   "execution_count": null,
   "id": "656cc16b-3dff-4909-9f72-2fb40834b72d",
   "metadata": {},
   "outputs": [],
   "source": [
    "import os\n",
    "\n",
    "# In local mode, all your services are running locally.\n",
    "# In hybrid or cluster mode, we use the services deployed on the RS-Server website.\n",
    "# This configuration is set in an environment variable.\n",
    "local_mode = (os.getenv(\"RSPY_LOCAL_MODE\") == \"1\")\n",
    "\n",
    "# In local mode, the service URLs are hardcoded in the docker-compose file\n",
    "if local_mode:\n",
    "    rs_server_href = None # not used\n",
    "    RSPY_HOST_AUXIP = \"http://localhost:8001/docs\"\n",
    "    RSPY_HOST_CADIP = \"http://localhost:8002/docs\"\n",
    "    RSPY_HOST_CATALOG = \"http://localhost:8003/api.html\"\n",
    "    RSPY_PREFECT_URL = \"http://localhost:4200\"\n",
    "    RSPY_DPR_SIMU_URL = \"http://dpr-simulator:8000\"\n",
    "    print (f\"Auxip service: {RSPY_HOST_AUXIP}\")\n",
    "    print (f\"CADIP service: {RSPY_HOST_CADIP}\")\n",
    "    print (f\"Catalog service: {RSPY_HOST_CATALOG}\")\n",
    "    print (f\"MinIO dashboard (object storage): http://localhost:9101 with user=minio password=Strong#Pass#1234\")\n",
    "    print (f\"Prefect dashboard (orchestrator): {RSPY_PREFECT_URL}\")\n",
    "    print (f\"Grafana dashboard (logs, traces, metrics): http://localhost:3000/explore\")\n",
    "\n",
    "# In hybrid or cluster mode, they are set in an environment variables\n",
    "else:\n",
    "    rs_server_href = os.environ[\"RSPY_WEBSITE\"]\n",
    "    RSPY_UAC_HOMEPAGE = os.environ[\"RSPY_UAC_HOMEPAGE\"] \n",
    "    RSPY_PREFECT_URL = os.environ[\"RSPY_PREFECT_URL\"]\n",
    "    RSPY_DPR_SIMU_URL = os.environ[\"RSPY_DPR_SIMU_URL\"]\n",
    "    print (f\"RS-Server website: {rs_server_href}\")\n",
    "    print (f\"Create an API key: {RSPY_UAC_HOMEPAGE}\")\n",
    "    print (f\"Prefect dashboard (orchestrator): {RSPY_PREFECT_URL}\")\n",
    "    print (f\"Grafana dashboard (logs, traces, metrics): {os.environ['RSPY_GRAFANA_URL']}\")"
   ]
  },
  {
   "cell_type": "markdown",
   "id": "5a23fe1d-8b50-488a-97d9-89af32a66ef5",
   "metadata": {},
   "source": [
    "### API key\n",
    "\n",
    "In hybrid and cluster mode, you need an API key to access the RS-Server services. \n",
    "\n",
    "You must create one from the link displayed from the previous cell, see: <https://home.rs-python.eu/rs-documentation/rs-server/docs/doc/users/oauth2_apikey_manager>\n",
    "\n",
    "Then enter it manually in the cell below. \n",
    "\n",
    "It is easier to save it into your `~/.env` file so it is loaded automatically by your notebooks. To do so, from your JupyterHub session:\n",
    "\n",
    "1. Go to the menu *View -> Show Hidden Files*\n",
    "1. In the file browser in the left panel, check that you are in your `/` home folder.\n",
    "1. Double-click the `.env` file to open it using the integrated text editor.\n",
    "1. Add this line to the file, save it with *Ctrl-S* and close the editor:\n",
    "\n",
    "```shell\n",
    "# Replace by your value\n",
    "export RSPY_APIKEY=xxxxxxxx-xxxx-xxxx-xxxx-xxxxxxxxxxxx\n",
    "```"
   ]
  },
  {
   "cell_type": "code",
   "execution_count": null,
   "id": "5e32c2ed-f3ad-4adc-9642-bbbfe6985f24",
   "metadata": {},
   "outputs": [],
   "source": [
    "apikey = os.getenv(\"RSPY_APIKEY\")\n",
    "if (not local_mode) and (not apikey):\n",
    "    import getpass\n",
    "    apikey = getpass.getpass(f\"Enter your API key:\")\n",
    "    os.environ[\"RSPY_APIKEY\"] = apikey"
   ]
  },
  {
   "cell_type": "markdown",
   "id": "81eaed43-4218-41fc-a716-a487a6a6c322",
   "metadata": {},
   "source": [
    "### S3 buckets (object storage)\n",
    "\n",
    "The temporary S3 bucket is used to download the Auxip and Cadip files. \n",
    "\n",
    "When we publish these files into the STAC catalog, they are moved from the temporary into the final S3 bucket."
   ]
  },
  {
   "cell_type": "code",
   "execution_count": null,
   "id": "cf1e7543-6ff4-4a0a-ae05-5e37d967f59d",
   "metadata": {},
   "outputs": [],
   "source": [
    "# We use these bucket names that are deployed on the cluster. \n",
    "# RS-Server has read/write access to these buckets, but as an end-user, you won't manipulate them directly.\n",
    "RSPY_TEMP_BUCKET = os.environ[\"RSPY_TEMP_BUCKET\"]\n",
    "RSPY_CATALOG_BUCKET = os.environ[\"RSPY_CATALOG_BUCKET\"]\n",
    "\n",
    "# Except in local mode, where we use a local MinIO object storage instance.\n",
    "# We need to manually create the buckets.\n",
    "if local_mode:\n",
    "    !pip install boto3\n",
    "    from resources.utils import create_s3_buckets\n",
    "    create_s3_buckets(RSPY_TEMP_BUCKET, RSPY_CATALOG_BUCKET)"
   ]
  },
  {
   "cell_type": "markdown",
   "id": "ddf01158-6c17-462e-8c40-b8dac686e03b",
   "metadata": {},
   "source": [
    "<a href=\"./ESA_checkpoint_v0.1_02_manual_calls.ipynb\" target=\"_blank\">Part 2: manual calls to the RS-Server services >></a>"
   ]
  },
  {
   "cell_type": "markdown",
   "id": "1d43fa8c-4558-41d6-92cf-70ceb7764e79",
   "metadata": {},
   "source": [
    "<hr>\n",
    "<a href=\"https://github.com/RS-PYTHON\" target=\"_blank\">View on GitHub</a>"
   ]
  }
 ],
 "metadata": {
  "kernelspec": {
   "display_name": "Python 3 (ipykernel)",
   "language": "python",
   "name": "python3"
  },
  "language_info": {
   "codemirror_mode": {
    "name": "ipython",
    "version": 3
   },
   "file_extension": ".py",
   "mimetype": "text/x-python",
   "name": "python",
   "nbconvert_exporter": "python",
   "pygments_lexer": "ipython3",
   "version": "3.11"
  }
 },
 "nbformat": 4,
 "nbformat_minor": 5
}
