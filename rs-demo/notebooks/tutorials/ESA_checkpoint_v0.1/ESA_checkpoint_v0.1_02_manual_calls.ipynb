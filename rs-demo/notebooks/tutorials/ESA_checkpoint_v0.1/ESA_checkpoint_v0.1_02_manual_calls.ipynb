{
 "cells": [
  {
   "cell_type": "markdown",
   "id": "f8fe3d9c-fac7-432f-9c95-83e6735f2148",
   "metadata": {},
   "source": [
    "<table align='right'><tr>\n",
    "<td style=\"padding:10px\"><img src=\"resources/img/logos/EC_POS.png\" style=\"max-height:50px;width:auto;\"/></td>\n",
    "<td style=\"padding:10px\"><img src=\"resources/img/logos/ESA_logo_2020_Deep.png\" style=\"max-height:40px;width:auto;\"/></td>\n",
    "<td style=\"padding:10px\"><img src=\"resources/img/logos/Copernicus_blue.png\" style=\"max-height:60px;width:auto;\"/></td>\n",
    "<td style=\"padding:10px\"><img src=\"resources/img/logos/AIRBUS_Blue.png\" style=\"max-height:30px;width:auto;\"/></td>\n",
    "<td style=\"padding:10px\"><img src=\"resources/img/logos/CS-GROUP.png\" style=\"max-height:50px;width:auto;\"/></td>\n",
    "</tr></table>"
   ]
  },
  {
   "cell_type": "markdown",
   "id": "41da7ca3-4781-4e5a-b1a4-6a10ea5fdef2",
   "metadata": {},
   "source": [
    "<a href=\"./ESA_checkpoint_v0.1_01_initialisation.ipynb\" target=\"_blank\"><< Part 1: initialisation</a>\n",
    "<br>\n",
    "<a href=\"./ESA_checkpoint_v0.1_03_stac_catalog.ipynb\" target=\"_blank\">Part 3: use the STAC catalog >></a>"
   ]
  },
  {
   "cell_type": "markdown",
   "id": "daeaa622-5796-475b-8746-11a540613c64",
   "metadata": {},
   "source": [
    "<font color=\"#138D75\">**Copernicus Reference System Python**</font> <br>\n",
    "**Copyright:** Copyright 2024 ESA <br>\n",
    "**License:** Apache License, Version 2.0 <br>\n",
    "**Authors:** Airbus, CS Group"
   ]
  },
  {
   "cell_type": "markdown",
   "id": "ff85eadd-c73b-4c45-b1d9-cefb26dee873",
   "metadata": {},
   "source": [
    "<div class=\"alert alert-block alert-success\">\n",
    "<h3>Copernicus Reference System Python tutorial for the ESA checkpoint 0.1</h3></div>"
   ]
  },
  {
   "cell_type": "markdown",
   "id": "fb01a2ba-2ffa-4c0c-a1d0-9df440a8582d",
   "metadata": {},
   "source": [
    "<div class=\"alert alert-block alert-warning\">\n",
    "\n",
    "<h4>Part 2: manual calls to the RS-Server services</h4>\n",
    "\n",
    "Prerequisites:\n",
    "* <a href=\"./ESA_checkpoint_v0.1_01_initialisation.ipynb\" target=\"_blank\">Part 1: initialisation</a>\n",
    "\n",
    "</div>\n",
    "<hr>"
   ]
  },
  {
   "cell_type": "markdown",
   "id": "29bf9681-d649-4b33-8c79-021e39e4dd1b",
   "metadata": {},
   "source": [
    "# Introduction\n",
    "\n",
    "## Links\n",
    "\n",
    "* GitHub: https://github.com/RS-PYTHON\n",
    "* Documentation: https://home.rs-python.eu/rs-documentation/\n",
    "\n",
    "## Data used\n",
    "\n",
    "In this notebook, we use simulated Auxip and Cadip data.\n",
    "\n",
    "## Learning outcomes\n",
    "\n",
    "At the end of this notebook you will know how to:\n",
    "* Use the RS-Client Python library.\n",
    "* Use it to:\n",
    "    * Search individual Auxip files and Cadip chunk files from the Auxip and Cadip simulators.\n",
    "    * Download them into a temporary S3 bucket (=first staging step).\n",
    "    * Search Cadip session information.\n",
    "\n",
    "<div class=\"alert alert-info\" role=\"alert\">\n",
    "\n",
    "## Contents\n",
    "\n",
    "</div>\n",
    "    \n",
    "1. [Check your installation](#Check-your-installation) \n",
    "1. [RsClient initialisation](#RsClient-initialisation)\n",
    "1. [Call services manually](#Call-services-manually)\n",
    "    1. [Search files from Auxip and Cadip stations](#Search-files-from-Auxip-and-Cadip-stations)\n",
    "    1. [Stage Auxip and Cadip files](#Stage-Auxip-and-Cadip-files)\n",
    "    1. [Search Cadip sessions](#Search-Cadip-sessions)\n",
    "1. [Exercises](#Exercises)\n",
    "\n",
    "<hr>"
   ]
  },
  {
   "cell_type": "markdown",
   "id": "daf81275-831c-48e8-bca0-1086434dcbc4",
   "metadata": {},
   "source": [
    "<div class=\"alert alert-info\" role=\"alert\">\n",
    "\n",
    "## Check your installation\n",
    "\n",
    "In this section, we will check that your Jupyter Notebook environment is correctly set.\n",
    "\n",
    "[Back to top](#Contents)\n",
    "\n",
    "</div>"
   ]
  },
  {
   "cell_type": "markdown",
   "id": "1d069303-fd50-49ea-9c47-9d23749806bd",
   "metadata": {},
   "source": [
    "### `rs-client-libraries` installation\n",
    "\n",
    "The `rs-client-libraries` Python library is the preferred way to access the RS-Server services from your environment. It is automatically installed in this notebook.\n",
    "\n",
    "**Note**: don't worry about these OpenTelemetry messages for now, they will be fixed in a later version:\n",
    "```\n",
    "Overriding of current TracerProvider is not allowed\n",
    "Attempting to instrument while already instrumented\n",
    "Transient error StatusCode.UNAVAILABLE encountered while exporting metrics to ..., retrying in ...s\n",
    "Failed to export metrics to ..., error code: StatusCode.UNIMPLEMENTED\n",
    "```"
   ]
  },
  {
   "cell_type": "code",
   "execution_count": null,
   "id": "69708f8f-84ca-45fc-9379-313f193c44ca",
   "metadata": {},
   "outputs": [],
   "source": [
    "import rs_client\n",
    "import rs_common\n",
    "import rs_workflows\n",
    "\n",
    "# Set logger level to info\n",
    "import logging\n",
    "rs_common.logging.Logging.level = logging.INFO"
   ]
  },
  {
   "cell_type": "markdown",
   "id": "a30be89d-45fd-4870-99fe-6c692428d9c3",
   "metadata": {},
   "source": [
    "### Environment"
   ]
  },
  {
   "cell_type": "code",
   "execution_count": null,
   "id": "204bf7a9-ee9c-4278-8dde-5bc3587fed33",
   "metadata": {},
   "outputs": [],
   "source": [
    "import os\n",
    "\n",
    "# In local mode, all your services are running locally.\n",
    "# In hybrid or cluster mode, we use the services deployed on the RS-Server website.\n",
    "# This configuration is set in an environment variable.\n",
    "local_mode = (os.getenv(\"RSPY_LOCAL_MODE\") == \"1\")\n",
    "\n",
    "# In local mode, the service URLs are hardcoded in the docker-compose file\n",
    "if local_mode:\n",
    "    rs_server_href = None # not used\n",
    "    RSPY_HOST_AUXIP = \"http://localhost:8001/docs\"\n",
    "    RSPY_HOST_CADIP = \"http://localhost:8002/docs\"\n",
    "    RSPY_HOST_CATALOG = \"http://localhost:8003/api.html\"\n",
    "\n",
    "# In hybrid or cluster mode, they are set in an environment variables\n",
    "else:\n",
    "    rs_server_href = os.environ[\"RSPY_WEBSITE\"]"
   ]
  },
  {
   "cell_type": "markdown",
   "id": "5a23fe1d-8b50-488a-97d9-89af32a66ef5",
   "metadata": {},
   "source": [
    "### API key"
   ]
  },
  {
   "cell_type": "code",
   "execution_count": null,
   "id": "5e32c2ed-f3ad-4adc-9642-bbbfe6985f24",
   "metadata": {},
   "outputs": [],
   "source": [
    "apikey = os.getenv(\"RSPY_APIKEY\")\n",
    "if (not local_mode) and (not apikey):\n",
    "    import getpass\n",
    "    apikey = getpass.getpass(f\"Enter your API key:\")\n",
    "    os.environ[\"RSPY_APIKEY\"] = apikey"
   ]
  },
  {
   "cell_type": "markdown",
   "id": "6862e220-e83a-4a9f-aa37-d384347ced05",
   "metadata": {},
   "source": [
    "<div class=\"alert alert-info\" role=\"alert\">\n",
    "\n",
    "## RsClient initialisation\n",
    "\n",
    "Initialise Python RsClient class instances to access the RS-Server services.\n",
    "\n",
    "[Back to top](#Contents)\n",
    "\n",
    "</div>"
   ]
  },
  {
   "cell_type": "code",
   "execution_count": null,
   "id": "4e1ca29b-1292-498b-94de-9191fc9458b7",
   "metadata": {},
   "outputs": [],
   "source": [
    "import json\n",
    "from rs_client.rs_client import RsClient\n",
    "from rs_common.config import ECadipStation\n",
    "\n",
    "# Init a generic RS-Client instance. Pass the:\n",
    "#   - RS-Server website URL\n",
    "#   - API key. If not set, we try to read it from the RSPY_APIKEY environment variable.\n",
    "#   - ID of the owner of the STAC catalog collections.\n",
    "#     By default, this is the user login from the keycloak account, associated to the API key.\n",
    "#     Or, in local mode, this is the local system username.\n",
    "#     Else, your API Key must give you the rights to read/write on this catalog owner (see next cell).\n",
    "#   - Logger (optional, a default one can be used)\n",
    "generic_client = RsClient(rs_server_href, rs_server_api_key=None, owner_id=None, logger=None)\n",
    "print(f\"STAC catalog owner: {generic_client.owner_id!r}\")\n",
    "\n",
    "# From this generic instance, get an Auxip client instance\n",
    "auxip_client = generic_client.get_auxip_client()\n",
    "\n",
    "# Or get a Cadip client instance. Pass the cadip station.\n",
    "cadip_station = ECadipStation.CADIP # you can also have: INS, MPS, MTI, NSG, SGS\n",
    "cadip_client = generic_client.get_cadip_client(cadip_station)\n",
    "\n",
    "# Or get a Stac client to access the catalog\n",
    "stac_client = generic_client.get_stac_client()\n",
    "\n",
    "print(\"\\nValidate that our catalog is valid to the STAC format...\")\n",
    "stac_client.validate_all()\n",
    "\n",
    "print(\"\\nDisplay the Stac catalog as a treeview in notebook:\")\n",
    "display(stac_client)\n",
    "\n",
    "print(\"\\nOr just display all its contents at once:\")\n",
    "print(json.dumps(stac_client.to_dict(), indent=2))"
   ]
  },
  {
   "cell_type": "code",
   "execution_count": null,
   "id": "bed8b5e2-7dfb-4674-8626-a2a9cc0235c8",
   "metadata": {},
   "outputs": [],
   "source": [
    "# In hybrid or cluster mode, show information from the keycloak account, associated to the api key\n",
    "if not local_mode:\n",
    "\n",
    "    # = keycloak account user login\n",
    "    print(f\"API key user login: {generic_client.apikey_user_login!r}\")\n",
    "\n",
    "    # Print the IAM (Identity and Access Management) roles\n",
    "    # For this tutorial, you must have: \n",
    "    #   - read/download access for Adgs (=Auxip) = \"rs_adgs_<read|download>\"\n",
    "    #   - read/download access to the Cadip station you passed on the above cell = \"rs_cadip_<station>_<read|download>\"\n",
    "    #   - (optional) read/write/download access to STAC catalog collections from other owners = \"rs_catalog_<owner_id>:<collection|*>_<read|write|download>\"\n",
    "    #     (you always have all access to your own collections with owner_id=apikey_user_login as printed above)\n",
    "    iam_roles = \"\\n\".join (sorted (generic_client.apikey_iam_roles))\n",
    "    print(f\"\\nAPI key IAM roles: \\n{iam_roles}\")"
   ]
  },
  {
   "cell_type": "markdown",
   "id": "8074e987-dda7-463c-9bd8-26e150cd870f",
   "metadata": {},
   "source": [
    "<div class=\"alert alert-info\" role=\"alert\">\n",
    "\n",
    "## Call services manually\n",
    "\n",
    "In this section, we will see how to call manually these services: \n",
    "\n",
    "  * Search Auxip and Cadip reception stations for new files\n",
    "  * Stage these files (in a temporary s3 bucket, not yet in the STAC catalog) and check the staging status\n",
    "  * Search Cadip sessions\n",
    "\n",
    "[Back to top](#Contents)\n",
    "\n",
    "</div>"
   ]
  },
  {
   "cell_type": "code",
   "execution_count": null,
   "id": "f068b294-713f-4b25-b6b2-1b7db9a9c77b",
   "metadata": {},
   "outputs": [],
   "source": [
    "# Do some initialisation\n",
    "from datetime import datetime\n",
    "import json\n",
    "from time import sleep\n",
    "\n",
    "from rs_common.config import EDownloadStatus, EPlatform\n",
    "\n",
    "# Define a search interval\n",
    "start_date = datetime(2010, 1, 1, 12, 0, 0)\n",
    "stop_date = datetime(2024, 1, 1, 12, 0, 0)\n",
    "\n",
    "# We use this bucket name that is deployed on the cluster. \n",
    "# RS-Server has read/write access to this bucket, but as an end-user, you won't manipulate it directly.\n",
    "RSPY_TEMP_BUCKET = os.environ[\"RSPY_TEMP_BUCKET\"]"
   ]
  },
  {
   "cell_type": "markdown",
   "id": "8d5f05d1-1c37-4abd-acd2-118490c25bd9",
   "metadata": {},
   "source": [
    "<div class=\"alert alert-info\" role=\"alert\">\n",
    "\n",
    "### Search files from Auxip and Cadip stations\n",
    "\n",
    "[Back to top](#Contents)\n",
    "\n",
    "</div>"
   ]
  },
  {
   "cell_type": "markdown",
   "id": "edce37a5-86e7-4792-ad57-b93b7fa3f9b2",
   "metadata": {},
   "source": [
    "![Search Auxip and Cadip stations](resources/img/v0.1/search_stations.drawio.png)"
   ]
  },
  {
   "cell_type": "code",
   "execution_count": null,
   "id": "4a113ddc-b3b1-4b35-98ab-86e586f9cac9",
   "metadata": {},
   "outputs": [],
   "source": [
    "# Do this using the Auxip client (to find Auxip files) \n",
    "# then the Cadip client (to find Cadip chunk files)\n",
    "for client in [auxip_client, cadip_client]:\n",
    "\n",
    "    # Call the service to search the reception stations for new files in the date interval.\n",
    "    files = client.search_stations(start_date, stop_date)\n",
    "    \n",
    "    file_count = len(files)\n",
    "    assert file_count, f\"We should have at least one {client.station_name} file\"\n",
    "    print (f\"Found {file_count} {client.station_name} files\\n\")\n",
    "\n",
    "    # Print the first file metadata. It is in the STAC format.\n",
    "    print(f\"First {client.station_name} file:\\n{json.dumps(files[0], indent=2)}\\n\")\n",
    "\n",
    "    # By default, the files are returned sorted by the most recent first.\n",
    "    # NOTE: the \"created\" field corresponds to the publication date.\n",
    "    ids=\"\\n\".join([f\"{f['properties']['created']} - {f['id']}\" for f in files[:10]])\n",
    "    print(f\"Most recent {client.station_name} IDs and datetimes:\\n{ids}\\n\")"
   ]
  },
  {
   "cell_type": "code",
   "execution_count": null,
   "id": "bd078a49-5768-4291-99cb-1885de815391",
   "metadata": {},
   "outputs": [],
   "source": [
    "# We can sort by +/- any property, e.g. by creation date ascending = the oldest first\n",
    "for client in [auxip_client, cadip_client]:    \n",
    "    files = client.search_stations(start_date, stop_date, sortby=\"+created\")\n",
    "    ids=\"\\n\".join([f\"{f['properties']['created']} - {f['id']}\" for f in files[:10]])\n",
    "    print(f\"Oldest {client.station_name} IDs and datetimes:\\n{ids}\\n\")"
   ]
  },
  {
   "cell_type": "markdown",
   "id": "6d8b28f2-1a06-47ca-967c-1dba7d99aff3",
   "metadata": {},
   "source": [
    "<div class=\"alert alert-info\" role=\"alert\">\n",
    "\n",
    "### Stage Auxip and Cadip files\n",
    "\n",
    "When RS-Server stages a file, it means to:\n",
    "1. Copy (=download) it from the reception station into the temporary S3 bucket.\n",
    "1. Publish its metadata into the STAC catalog and move it from the temporary into the final S3 bucket.\n",
    "\n",
    "Here we will only perform the first step. The second step will be done in the next tutorial.\n",
    "\n",
    "[Back to top](#Contents)\n",
    "\n",
    "</div>"
   ]
  },
  {
   "cell_type": "markdown",
   "id": "ad490943-72c3-460f-8e61-b41f625dbba9",
   "metadata": {},
   "source": [
    "![Staging step #1](resources/img/v0.1/staging_step1.drawio.png)"
   ]
  },
  {
   "cell_type": "code",
   "execution_count": null,
   "id": "6eb9238c-13fe-4116-b87e-513903a18813",
   "metadata": {},
   "outputs": [],
   "source": [
    "temp_s3_files = []\n",
    "for client in [auxip_client, cadip_client]:\n",
    "\n",
    "    # When searching stations, we can also limit the number of returned results.\n",
    "    # For this example, let's keep only one file.\n",
    "    files = client.search_stations(start_date, stop_date, limit=1)\n",
    "    assert len(files) == 1\n",
    "\n",
    "    # We stage by filename = the file ID\n",
    "    first_filename = files[0][\"id\"]\n",
    "\n",
    "    # We must give a temporary S3 bucket path where to copy the file from the station.\n",
    "    # Use our API key username so avoid conflicts with other users.\n",
    "    # NOTE: in future versions, this S3 path will be automatically calculated by RS-Server.\n",
    "    s3_path = f\"s3://{RSPY_TEMP_BUCKET}/{client.apikey_user_login}/{client.station_name}\"\n",
    "    temp_s3_files.append (f\"{s3_path}/{first_filename}\") # save it for later\n",
    "\n",
    "    # We can also download the file locally to the server, but this is useful only in local mode\n",
    "    local_path = None\n",
    "\n",
    "    # Call the staging service\n",
    "    client.staging(first_filename, s3_path=s3_path, tmp_download_path=local_path)\n",
    "\n",
    "    # Then we can check when the staging has finished by calling the check status service\n",
    "    while True:\n",
    "        status = client.staging_status(first_filename)\n",
    "        print (f\"Staging status for {first_filename!r}: {status.value}\")\n",
    "        if status in [EDownloadStatus.DONE, EDownloadStatus.FAILED]:\n",
    "            print(\"\\n\")\n",
    "            break\n",
    "        sleep(1)        \n",
    "    assert status == EDownloadStatus.DONE, \"Staging has failed\"\n",
    "\n",
    "    # WARNING: the file is copied into the temporary S3 bucket but is not yet published into the catalog\n",
    "\n",
    "# Save these values for the next notebooks\n",
    "%store temp_s3_files"
   ]
  },
  {
   "cell_type": "markdown",
   "id": "47fc7a02-5a20-49ab-8081-7c1d0caec45e",
   "metadata": {},
   "source": [
    "<div class=\"alert alert-info\" role=\"alert\">\n",
    "\n",
    "### Search Cadip sessions\n",
    "\n",
    "All Cadip chunk files are attached to a single Cadip session.\n",
    "\n",
    "We can search Cadip sessions by parameters, or find information about a specific session ID.\n",
    "\n",
    "[Back to top](#Contents)\n",
    "\n",
    "</div>"
   ]
  },
  {
   "cell_type": "markdown",
   "id": "9dd4d447-7b18-4550-a223-04e7e7206253",
   "metadata": {},
   "source": [
    "![Search Cadip sessions](resources/img/v0.1/search_cadip_sessions.drawio.png)"
   ]
  },
  {
   "cell_type": "code",
   "execution_count": null,
   "id": "81869f26-c21e-4359-a959-29534798e263",
   "metadata": {},
   "outputs": [],
   "source": [
    "# Search cadip sessions by date interval and platforms\n",
    "platforms = [EPlatform.S1A, EPlatform.S2B]\n",
    "sessions = cadip_client.search_sessions(start_date=start_date, stop_date=stop_date, platforms=platforms)\n",
    "\n",
    "session_count = len(sessions)\n",
    "assert session_count, \"We should have at least one Cadip session\"\n",
    "print (f\"Found {session_count} Cadip sessions\")"
   ]
  },
  {
   "cell_type": "code",
   "execution_count": null,
   "id": "45253518-999f-4f2e-8759-d9a7f39a71cd",
   "metadata": {},
   "outputs": [],
   "source": [
    "# Print the first cadip session metadata. It is in the STAC format.\n",
    "print(f\"First Cadip session:\\n{json.dumps(sessions[0], indent=2)}\\n\")"
   ]
  },
  {
   "cell_type": "code",
   "execution_count": null,
   "id": "7c6c7920-3942-4156-88a3-f503ddf7230d",
   "metadata": {},
   "outputs": [],
   "source": [
    "# Print all the Cadip session IDs\n",
    "ids=[s[\"id\"] for s in sessions]\n",
    "print_ids=\"\\n\".join(ids)\n",
    "print(f\"Cadip sessions IDs:\\n{print_ids}\")"
   ]
  },
  {
   "cell_type": "code",
   "execution_count": null,
   "id": "a711fe8e-0cb6-4e9a-b0bd-42f76c97c5ad",
   "metadata": {},
   "outputs": [],
   "source": [
    "# We can also search Cadip sessions by specific session IDs,\n",
    "# e.g. get information for the cadip sessions #2 and #3\n",
    "search_ids=ids[1:3]\n",
    "search_sessions = cadip_client.search_sessions(session_ids=search_ids)\n",
    "print(f\"Cadip sessions information:\\n{json.dumps(search_sessions, indent=2)}\\n\")"
   ]
  },
  {
   "cell_type": "markdown",
   "id": "aa9e25f0-332f-4a6d-8fa8-f7fc34f96c50",
   "metadata": {},
   "source": [
    "<div class=\"alert alert-danger\" role=\"alert\">\n",
    "\n",
    "## Exercises\n",
    "\n",
    "</div>\n",
    "\n",
    "Run again the previous cells but this time: \n",
    "1. Check if your **API key** allows you to access **other Cadip stations**. Then:\n",
    "    1. Use a RsClient instance with one of these **other stations**.\n",
    "    1. Check if it allows you to read and download **Cadip files**.\n",
    "1. Search Auxip and Cadip files using a different time interval.\n",
    "1. Print one different Cadip session information.\n",
    "\n",
    "**NOTE**: you can also use the website OpenAPI Swagger UI to call RS-Server (see cell below).\n",
    "\n",
    "[Back to top](#Contents)\n",
    "\n",
    "<hr>"
   ]
  },
  {
   "cell_type": "code",
   "execution_count": null,
   "id": "cdb904b7-cedf-4174-b227-1de8ad4b9d99",
   "metadata": {},
   "outputs": [],
   "source": [
    "if local_mode:\n",
    "    print(f\"\"\"OpenAPI Swagger UI for:\n",
    "  - Auxip: {RSPY_HOST_AUXIP}\n",
    "  - Cadip: {RSPY_HOST_CADIP}\n",
    "  - STAC catalog: {RSPY_HOST_CATALOG}\"\"\")\n",
    "else:\n",
    "    print(f\"OpenAPI Swagger UI: {generic_client.rs_server_href}\")"
   ]
  },
  {
   "cell_type": "markdown",
   "id": "e2586535-2f53-4891-8ea4-d61294174abf",
   "metadata": {},
   "source": [
    "<a href=\"./ESA_checkpoint_v0.1_01_initialisation.ipynb\" target=\"_blank\"><< Part 1: initialisation</a>\n",
    "<br>\n",
    "<a href=\"./ESA_checkpoint_v0.1_03_stac_catalog.ipynb\" target=\"_blank\">Part 3: use the STAC catalog >></a>"
   ]
  },
  {
   "cell_type": "markdown",
   "id": "1d43fa8c-4558-41d6-92cf-70ceb7764e79",
   "metadata": {},
   "source": [
    "<hr>\n",
    "<a href=\"https://github.com/RS-PYTHON\" target=\"_blank\">View on GitHub</a>"
   ]
  }
 ],
 "metadata": {
  "kernelspec": {
   "display_name": "Python 3 (ipykernel)",
   "language": "python",
   "name": "python3"
  },
  "language_info": {
   "codemirror_mode": {
    "name": "ipython",
    "version": 3
   },
   "file_extension": ".py",
   "mimetype": "text/x-python",
   "name": "python",
   "nbconvert_exporter": "python",
   "pygments_lexer": "ipython3",
   "version": "3.11"
  }
 },
 "nbformat": 4,
 "nbformat_minor": 5
}
