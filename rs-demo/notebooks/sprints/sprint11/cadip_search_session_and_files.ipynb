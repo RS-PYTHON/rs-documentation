{
 "cells": [
  {
   "cell_type": "markdown",
   "id": "39651f8c-20fc-43fd-9095-88b901cd0169",
   "metadata": {},
   "source": [
    "Case 1 (One request only): Send only **one** requests to a station that supports expand mechanism, receive the sessions and all the files belonging to it."
   ]
  },
  {
   "cell_type": "code",
   "execution_count": null,
   "id": "c9492f99-7170-467b-9d1b-1e6fb4f07cb4",
   "metadata": {},
   "outputs": [],
   "source": [
    "import os\n",
    "import requests\n",
    "import getpass\n",
    "\n",
    "if os.getenv(\"RSPY_LOCAL_MODE\") == \"0\":\n",
    "    os.environ[\"RSPY_WEBSITE\"] = \"https://dev-rspy.esa-copernicus.eu\"\n",
    "    apikey = getpass.getpass(\"Enter your API key:\")\n",
    "    os.environ[\"RSPY_APIKEY\"] = apikey\n",
    "    RS_SERVER_ROOT_URL = os.environ[\"RSPY_WEBSITE\"]\n",
    "    endpoint=f\"{RS_SERVER_ROOT_URL}/cadip/cadip/session?\"\n",
    "    HEADERS={\"headers\": {\"x-api-key\": os.environ[\"RSPY_APIKEY\"]}}\n",
    "    \n",
    "    params = {\n",
    "        \"platform\": \"S1A\",\n",
    "        \"start_date\": \"2020-02-16T12:00:00Z\",\n",
    "        \"stop_date\": \"2023-02-16T12:00:00Z\",\n",
    "    }\n",
    "    requests.get(endpoint, params=params, **HEADERS).json()"
   ]
  },
  {
   "cell_type": "markdown",
   "id": "9bcecf72-0801-4cec-96be-7a43bc7edb61",
   "metadata": {},
   "source": [
    "Case 2 (Two requests): Send **one** request to a station that does not support expand mechanism (MTI in our case), receive the sessionID value and then send **one** request to list all the files that belongs to that session."
   ]
  },
  {
   "cell_type": "code",
   "execution_count": null,
   "id": "403fe7ef-d953-464f-9246-7180adbaf1fd",
   "metadata": {},
   "outputs": [],
   "source": [
    "if os.getenv(\"RSPY_LOCAL_MODE\") == \"0\":\n",
    "    endpoint=f\"{RS_SERVER_ROOT_URL}/cadip/MTI/session?\"\n",
    "    params = {\n",
    "        \"platform\": \"S1A\",\n",
    "        \"start_date\": \"2020-02-16T12:00:00Z\",\n",
    "        \"stop_date\": \"2023-02-16T12:00:00Z\",\n",
    "    }\n",
    "    requests.get(endpoint, params=params, **HEADERS).json()"
   ]
  },
  {
   "cell_type": "code",
   "execution_count": null,
   "id": "811356a7-db18-4c69-b5ce-932421565742",
   "metadata": {},
   "outputs": [],
   "source": [
    "if os.getenv(\"RSPY_LOCAL_MODE\") == \"0\":\n",
    "    endpoint=f\"{RS_SERVER_ROOT_URL}/cadip/mti/cadu/search?\"\n",
    "    params = {\n",
    "        \"session_id\": \"S1A_20210410031928012345,S1A_20220715090550123456\"\n",
    "    }\n",
    "    requests.get(endpoint, params=params, **HEADERS).json()"
   ]
  }
 ],
 "metadata": {
  "kernelspec": {
   "display_name": "Python 3 (ipykernel)",
   "language": "python",
   "name": "python3"
  },
  "language_info": {
   "codemirror_mode": {
    "name": "ipython",
    "version": 3
   },
   "file_extension": ".py",
   "mimetype": "text/x-python",
   "name": "python",
   "nbconvert_exporter": "python",
   "pygments_lexer": "ipython3",
   "version": "3.11.6"
  }
 },
 "nbformat": 4,
 "nbformat_minor": 5
}
